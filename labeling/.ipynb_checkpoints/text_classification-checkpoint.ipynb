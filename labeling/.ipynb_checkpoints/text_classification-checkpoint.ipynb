{
 "cells": [
  {
   "cell_type": "code",
   "execution_count": 1,
   "metadata": {
    "id": "mbwqHle6NztB"
   },
   "outputs": [],
   "source": [
    "import os\n",
    "import json"
   ]
  },
  {
   "cell_type": "code",
   "execution_count": 2,
   "metadata": {
    "colab": {
     "base_uri": "https://localhost:8080/",
     "height": 235
    },
    "id": "KptB-rJqMMZV",
    "outputId": "5dcbb561-99f5-4b65-c928-6101d175ccd7"
   },
   "outputs": [],
   "source": [
    "# Đọc dữ liệu\n",
    "file_name = \"terrorism.txt\"\n",
    "my_text = open(os.path.join(os.getcwd(), file_name), \"r\", encoding=\"utf8\") \n",
    "lines = []\n",
    "for line in my_text.readlines():\n",
    "    lines.append(line.rstrip('\\n'))"
   ]
  },
  {
   "cell_type": "code",
   "execution_count": 3,
   "metadata": {
    "id": "knvXQqJnW0IV"
   },
   "outputs": [],
   "source": [
    "# Mỗi batch gán thì lấy tầm 100 - 200 data\n",
    "batch = lines[0:15]"
   ]
  },
  {
   "cell_type": "code",
   "execution_count": 4,
   "metadata": {
    "id": "ZZBKTEx-WbE1"
   },
   "outputs": [],
   "source": [
    "label_dict = {\n",
    "    0: \"neutral\",\n",
    "    1: \"insult\",\n",
    "    2: \"politics\",\n",
    "    3: \"psychology\",\n",
    "    4: \"religion\",\n",
    "    5: \"terrorism\"\n",
    "}"
   ]
  },
  {
   "cell_type": "code",
   "execution_count": 5,
   "metadata": {
    "id": "HVWO9Q-i6G7I"
   },
   "outputs": [
    {
     "name": "stdout",
     "output_type": "stream",
     "text": [
      "New dict initialized\n"
     ]
    }
   ],
   "source": [
    "# Cái này chạy 1 lần để tạo dict rồi xóa đi, batch sau nhập lại\n",
    "\n",
    "# check if it exists\n",
    "if 'tagged_dict' not in globals(): \n",
    "    tagged_dict = {}\n",
    "    print('New dict initialized')\n",
    "else: \n",
    "    print('Dict already exists')"
   ]
  },
  {
   "cell_type": "code",
   "execution_count": 6,
   "metadata": {
    "id": "FZyKNNEVNTXC"
   },
   "outputs": [],
   "source": [
    "# return True if label succesfully\n",
    "def label_a_line(line_count):\n",
    "    try:\n",
    "        print(f\"{line_count} : {batch[line_count]}\")\n",
    "        line = batch[line_count]\n",
    "        tags = input(\"   Enter your tag: \")\n",
    "        val = list()\n",
    "        if len(str(tags)) >= 2:\n",
    "            for tag_count in range(len(str(tags))):\n",
    "                str_tags = str(tags)\n",
    "                val.append(label_dict[int(str_tags[tag_count])])\n",
    "            tagged_dict[line] = val\n",
    "        else:\n",
    "            tagged_dict[line] = list()\n",
    "            tagged_dict[line].append(label_dict[int(tags)])\n",
    "        print(f'    {tagged_dict[line]}')\n",
    "        return True\n",
    "    except KeyError:\n",
    "        return False"
   ]
  },
  {
   "cell_type": "code",
   "execution_count": 7,
   "metadata": {
    "id": "xaAl4z7vQw6d"
   },
   "outputs": [
    {
     "name": "stdout",
     "output_type": "stream",
     "text": [
      "0 : Islamic State 'Beatles' cell member convicted in U.S. of beheading hostages\n",
      "   Enter your tag: 12\n",
      "    ['insult', 'politics']\n",
      "1 : Jihadists kill dozens across northern Togo\n",
      "   Enter your tag: 233\n",
      "    ['politics', 'psychology', 'psychology']\n",
      "2 : Al-Shabab Attacks Key Bridges in Somalia, Kills at Least 21 People\n",
      "   Enter your tag: 24\n",
      "    ['politics', 'religion']\n",
      "3 : Liwa Fatemiyoun publishes a statement regarding the recent IS attack in Iran\n",
      "   Enter your tag: 25\n",
      "    ['politics', 'terrorism']\n",
      "4 : Pro-Iran Group Kills American English Teacher In Iraq\n",
      "   Enter your tag: 26\n",
      "4 : Pro-Iran Group Kills American English Teacher In Iraq\n",
      "   Enter your tag: 21\n",
      "    ['politics', 'insult']\n",
      "5 : Improvised Anti-Vehicle Land Mines (IAVMs) in Mexico: Cartel Emergent Weaponry Use\n",
      "   Enter your tag: 23\n",
      "    ['politics', 'psychology']\n",
      "6 : Experts react: Al-Qaeda chief Ayman al-Zawahiri is dead. What’s next for US counterterrorism?\n",
      "   Enter your tag: 25\n",
      "    ['politics', 'terrorism']\n",
      "7 : wagner\n",
      "   Enter your tag: 34\n",
      "    ['psychology', 'religion']\n",
      "8 : Islamist militants in Mali kill hundreds, displace thousands in eastern advance\n",
      "   Enter your tag: 53\n",
      "    ['terrorism', 'psychology']\n",
      "9 : Remote Warfare: Exploring the proliferation of targeted drone strikes\n",
      "   Enter your tag: 20\n",
      "    ['politics', 'neutral']\n",
      "10 : AP sources: US operation killed al-Qaida leader al-Zawahri\n",
      "   Enter your tag: 01\n",
      "    ['neutral', 'insult']\n",
      "11 : Russia threatens hundreds of thousands of people by mining dam, Zelenskyy warns\n",
      "   Enter your tag: 02\n",
      "    ['neutral', 'politics']\n",
      "12 : US forces kill senior terrorist leader in Syria\n",
      "   Enter your tag: 03\n",
      "    ['neutral', 'psychology']\n",
      "13 : Suspected Suicide Bombers Strike in Northwest Syria\n",
      "   Enter your tag: 25\n",
      "    ['politics', 'terrorism']\n",
      "14 : Anonymous exposes Iranian regime support for key Al-Qaeda figures\n",
      "   Enter your tag: 30\n",
      "    ['psychology', 'neutral']\n"
     ]
    }
   ],
   "source": [
    "# Chạy cái này để gán nhãn, nhập số ở label_dict để gán, có thể nhập nhiều số liền nhau, ví dụ như 124\n",
    "for line_count in range(len(batch)):\n",
    "    while True:\n",
    "        if label_a_line(line_count):\n",
    "            break"
   ]
  },
  {
   "cell_type": "code",
   "execution_count": null,
   "metadata": {
    "id": "rUYLgLUxYxCT"
   },
   "outputs": [],
   "source": [
    "# Chuyển dữ liệu về dạng json\n",
    "tagged_json = json.dumps(tagged_dict)"
   ]
  },
  {
   "cell_type": "code",
   "execution_count": null,
   "metadata": {
    "id": "cH-gJnTzdzAC"
   },
   "outputs": [],
   "source": [
    "# Xuất file, vào Files ở cột bên trái để tải về\n",
    "with open(\"batch3.json\", \"w\") as outfile:\n",
    "    outfile.write(tagged_json)"
   ]
  }
 ],
 "metadata": {
  "colab": {
   "provenance": []
  },
  "gpuClass": "standard",
  "kernelspec": {
   "display_name": "Python 3",
   "language": "python",
   "name": "python3"
  },
  "language_info": {
   "codemirror_mode": {
    "name": "ipython",
    "version": 3
   },
   "file_extension": ".py",
   "mimetype": "text/x-python",
   "name": "python",
   "nbconvert_exporter": "python",
   "pygments_lexer": "ipython3",
   "version": "3.8.8"
  },
  "vscode": {
   "interpreter": {
    "hash": "11938c6bc6919ae2720b4d5011047913343b08a43b18698fd82dedb0d4417594"
   }
  }
 },
 "nbformat": 4,
 "nbformat_minor": 1
}
