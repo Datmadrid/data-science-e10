{
 "cells": [
  {
   "cell_type": "code",
   "execution_count": 1,
   "metadata": {
    "id": "mbwqHle6NztB"
   },
   "outputs": [],
   "source": [
    "import os\n",
    "import json"
   ]
  },
  {
   "cell_type": "code",
   "execution_count": 2,
   "metadata": {
    "colab": {
     "base_uri": "https://localhost:8080/",
     "height": 235
    },
    "id": "KptB-rJqMMZV",
    "outputId": "5dcbb561-99f5-4b65-c928-6101d175ccd7"
   },
   "outputs": [
    {
     "name": "stdout",
     "output_type": "stream",
     "text": [
      "634\n"
     ]
    }
   ],
   "source": [
    "# Đọc dữ liệu\n",
    "inp_file_name = \"terrorism_removed_dup.txt\"\n",
    "out_file_name = \"terrorism.json\"\n",
    "\n",
    "with open(os.path.join(os.getcwd(), inp_file_name), \"r\", encoding=\"utf8\") as f:\n",
    "    lines = f.read().split('\\n')\n",
    "\n",
    "print(len(lines))"
   ]
  },
  {
   "cell_type": "code",
   "execution_count": 3,
   "metadata": {
    "id": "knvXQqJnW0IV"
   },
   "outputs": [],
   "source": [
    "# Mỗi batch gán thì lấy tầm 100 - 200 data  \n",
    "batch = lines[450:500]"
   ]
  },
  {
   "cell_type": "code",
   "execution_count": 4,
   "metadata": {
    "id": "ZZBKTEx-WbE1"
   },
   "outputs": [],
   "source": [
    "label_dict = {\n",
    "    0: \"neutral\",\n",
    "    1: \"insult\",\n",
    "    2: \"politics\",\n",
    "    3: \"psychology\",\n",
    "    4: \"religion\",\n",
    "    5: \"terrorism\"\n",
    "}"
   ]
  },
  {
   "cell_type": "code",
   "execution_count": 5,
   "metadata": {
    "id": "HVWO9Q-i6G7I"
   },
   "outputs": [
    {
     "name": "stdout",
     "output_type": "stream",
     "text": [
      "Loaded from file, #sentences labeled = 450\n"
     ]
    }
   ],
   "source": [
    "# FIXED: this cell can be run multiple times \n",
    "# check if it exists\n",
    "if 'tagged_dict' not in globals():\n",
    "    try:\n",
    "        with open(os.path.join(os.getcwd(), out_file_name), \"r\", encoding=\"utf8\") as f:\n",
    "            tagged_dict = json.load(f)\n",
    "        print(\"Loaded from file, #sentences labeled =\", len(tagged_dict))\n",
    "    except FileNotFoundError:\n",
    "        tagged_dict = {}\n",
    "        print('New dict initialized')\n",
    "else: \n",
    "    print('Dict already exists, #sentences labeled =', len(tagged_dict))"
   ]
  },
  {
   "cell_type": "code",
   "execution_count": 13,
   "metadata": {},
   "outputs": [
    {
     "name": "stdout",
     "output_type": "stream",
     "text": [
      "437 Taliban circulates video of Haqqanis plotting 2010 suicide raid against U.S. troops ['politics', 'religion', 'terrorism']\n",
      "485 On this day, Haqqani terrorist trucked bombed American University of Afghanistan and had 3 of its terrorist inside the University, that went on a killing spree. 13 student/staff got killed and 53 others got injured. The mastermind of the attack, seraj Haqqani, now is talibs interior minister. ['politics', 'religion', 'terrorism']\n",
      "497 The surprising realpolitik of the new Haqqani network ['politics', 'religion', 'terrorism']\n"
     ]
    }
   ],
   "source": [
    "for i, (k, v) in enumerate(tagged_dict.items()):\n",
    "    if 'Haqqani'.lower() in k.lower():\n",
    "        if 'religion' not in v:\n",
    "            v.insert(-1, 'religion')\n",
    "            print('fixed')\n",
    "        print(i, k, v)"
   ]
  },
  {
   "cell_type": "code",
   "execution_count": 7,
   "metadata": {
    "id": "FZyKNNEVNTXC"
   },
   "outputs": [],
   "source": [
    "# return True if label successfully\n",
    "def label_a_line(line_count):\n",
    "    try:\n",
    "        print(f\"{line_count} : {batch[line_count]}\")\n",
    "        line = batch[line_count]\n",
    "        tags = input(\"   Enter your tag: \")\n",
    "        val = list()\n",
    "        if len(str(tags)) >= 2:\n",
    "            for tag_count in range(len(str(tags))):\n",
    "                str_tags = str(tags)\n",
    "                val.append(label_dict[int(str_tags[tag_count])])\n",
    "            tagged_dict[line] = val\n",
    "        else:\n",
    "            tagged_dict[line] = list()\n",
    "            tagged_dict[line].append(label_dict[int(tags)])\n",
    "        print(f'    {tagged_dict[line]}')\n",
    "        return True\n",
    "    except KeyError:\n",
    "        return False"
   ]
  },
  {
   "cell_type": "code",
   "execution_count": 8,
   "metadata": {
    "id": "xaAl4z7vQw6d"
   },
   "outputs": [
    {
     "name": "stdout",
     "output_type": "stream",
     "text": [
      "0 : Brussels attacks judge orders removal of defendant \"cages\" - Nine men accused of participating in the 2016 Brussels bombings that killed 32 people cannot be put on trial in glass boxes\n",
      "   Enter your tag: 25\n",
      "    ['politics', 'terrorism']\n",
      "1 : Who Really Chooses to Become a Suicide Bomber?\n",
      "   Enter your tag: 5\n",
      "    ['terrorism']\n",
      "2 : hostage\n",
      "   Enter your tag: 25\n",
      "    ['politics', 'terrorism']\n",
      "3 : Iran: No nuclear deal until IAEA closes investigations\n",
      "   Enter your tag: 25\n",
      "    ['politics', 'terrorism']\n",
      "4 : 4 Soldiers Killed In Attack At Jammu Army Camp, 2 Terrorists Shot Dead\n",
      "   Enter your tag: 25\n",
      "    ['politics', 'terrorism']\n",
      "5 : Biden will not declare Russia a state sponsor of terrorism\n",
      "   Enter your tag: 25\n",
      "    ['politics', 'terrorism']\n",
      "6 : 8 killed, more than 800 prisoners escape after terror attack in Congo\n",
      "   Enter your tag: 25\n",
      "    ['politics', 'terrorism']\n",
      "7 : Officials: Militants Target Labor Camp in Pakistan, Kill 3\n",
      "   Enter your tag: 25\n",
      "    ['politics', 'terrorism']\n",
      "8 : Two Police Gunned Down At Northwestern Pakistan Checkpoint\n",
      "   Enter your tag: 25\n",
      "    ['politics', 'terrorism']\n",
      "9 : Russian link suspected in Spanish letter bomb attacks\n",
      "   Enter your tag: 25\n",
      "    ['politics', 'terrorism']\n",
      "10 : Senate report concludes FBI and DHS are not adequately focused on domestic extremists\n",
      "   Enter your tag: 25\n",
      "    ['politics', 'terrorism']\n",
      "11 : US Navy says Iran seized, later let go of American sea drone\n",
      "   Enter your tag: 2\n",
      "    ['politics']\n",
      "12 : France launches terrorism probe over rally team blast in Saudi Arabia\n",
      "   Enter your tag: 25\n",
      "    ['politics', 'terrorism']\n",
      "13 : Bowling Green Man Arrested on Multiple Terrorism Charges (ISIS)\n",
      "   Enter your tag: 245\n",
      "    ['politics', 'religion', 'terrorism']\n",
      "14 : CIA drone strike in Kabul that killed Ayman al-Zawahiri, leader of the terrorist group Al Qaeda.\n",
      "   Enter your tag: 245\n",
      "    ['politics', 'religion', 'terrorism']\n",
      "15 : Biden Appeared to Overstate the Role of al-Qaida's Leader\n",
      "   Enter your tag: 245\n",
      "    ['politics', 'religion', 'terrorism']\n",
      "16 : Counter-Terrorism in the Sahel: Increased Instability and Political Tensions\n",
      "   Enter your tag: 25\n",
      "    ['politics', 'terrorism']\n",
      "17 : ISIS Fighters' Children Are Growing Up in a Desert Camp. What Will They Become?\n",
      "   Enter your tag: 2345\n",
      "    ['politics', 'psychology', 'religion', 'terrorism']\n",
      "18 : 21 years since 9/11 attacks\n",
      "   Enter your tag: 5\n",
      "    ['terrorism']\n",
      "19 : Radiation emission risk: Russian troops seriously damage nitrogen-oxygen unit at Zaporizhzhia Nuclear Power Plant – Energoatom\n",
      "   Enter your tag: 25\n",
      "    ['politics', 'terrorism']\n",
      "20 : Countries backing YPG/PKK support Syria's disintegration.\n",
      "   Enter your tag: 245\n",
      "    ['politics', 'religion', 'terrorism']\n",
      "21 : Syriac Cross Organization for Relief and Development Malek Hanna stated that the recent Turkish attacks on North and East Syria have primarily targeted civilian infrastructure, which will lead to the disruption of humanitarian aid operations and post-Islamic State (ISIS) reconstruction.\n",
      "   Enter your tag: 245\n",
      "    ['politics', 'religion', 'terrorism']\n",
      "22 : German court accuses Russia of \"state terrorism\" over 2019 Berlin park murder\n",
      "   Enter your tag: 25\n",
      "    ['politics', 'terrorism']\n",
      "23 : Islamist Radicals From Afghanistan Now Fighting for Tajikistan Against Kyrgyzstan\n",
      "   Enter your tag: 245\n",
      "    ['politics', 'religion', 'terrorism']\n",
      "24 : German officials reportedly believe the crucial Nord Stream natural-gas pipelines connecting Russia to Europe were sabotaged near a Danish island\n",
      "   Enter your tag: 2\n",
      "    ['politics']\n",
      "25 : AQAP releases video of kidnapped UN director being held in Yemen\n",
      "   Enter your tag: 25\n",
      "    ['politics', 'terrorism']\n",
      "26 : Salman Rushdie’s family ‘extremely relieved’ he’s off ventilator | Arts and Culture News\n",
      "   Enter your tag: 23\n",
      "    ['politics', 'psychology']\n",
      "27 : Lafarge pleads guilty to U.S. charge of supporting Islamic State, to pay $778 million\n",
      "   Enter your tag: 245\n",
      "    ['politics', 'religion', 'terrorism']\n",
      "28 : Pelosi\n",
      "   Enter your tag: 2\n",
      "    ['politics']\n",
      "29 : Dutch Court Confirms MH17 Was Shot Down By Russian-Made Missile, Convicts Two Russians, One Ukrainian\n",
      "   Enter your tag: 25\n",
      "    ['politics', 'terrorism']\n",
      "30 : How to expel Russia from the UN\n",
      "   Enter your tag: 2\n",
      "    ['politics']\n",
      "31 : DHS terrorism bulletin warns of focus on synagogues, HBCUs\n",
      "   Enter your tag: 245\n",
      "    ['politics', 'religion', 'terrorism']\n",
      "32 : Man Charged With Terrorist Crime for Swedish Politics Festival Murder\n",
      "   Enter your tag: 25\n",
      "    ['politics', 'terrorism']\n",
      "33 : Pentagon: US kills IS group leader in Syria in drone strike\n",
      "   Enter your tag: 245\n",
      "    ['politics', 'religion', 'terrorism']\n",
      "34 : Intruder seeking U.S. House Speaker Pelosi at her home beats husband with hammer\n",
      "   Enter your tag: 25\n",
      "    ['politics', 'terrorism']\n",
      "35 : On this day, Haqqani terrorist trucked bombed American University of Afghanistan and had 3 of its terrorist inside the University, that went on a killing spree. 13 student/staff got killed and 53 others got injured. The mastermind of the attack, seraj Haqqani, now is talibs interior minister.\n",
      "   Enter your tag: 245\n",
      "    ['politics', 'religion', 'terrorism']\n",
      "36 : In Haiti, children who fled gang wars face uncertain future\n",
      "   Enter your tag: 235\n",
      "    ['politics', 'psychology', 'terrorism']\n",
      "37 : US Lists Top TTP, Regional al-Qaida Commanders as Global Terrorists\n",
      "   Enter your tag: 245\n",
      "    ['politics', 'religion', 'terrorism']\n",
      "38 : Houthi threat to security and freedom of maritime navigation, which is also guaranteed by international law that the Houthi militia should be classified as a terrorist organization and stop communication and funding for it.\n",
      "   Enter your tag: 25\n",
      "    ['politics', 'terrorism']\n",
      "39 : UK, France denounce Iran for 'hostage taking' of their nationals as more protesters sentenced to death\n",
      "   Enter your tag: 25\n",
      "    ['politics', 'terrorism']\n",
      "40 : Aafia Siddiqui’s Continued Pertinence in Jihadi Terror Plots against the United States\n",
      "   Enter your tag: 245\n",
      "    ['politics', 'religion', 'terrorism']\n",
      "41 : NYPD spent $3 billion on surveillance but critics say details are vague despite new disclosure law\n",
      "   Enter your tag: 2\n",
      "    ['politics']\n",
      "42 : Norway: Suspect in Pride Month 'Islamist terror act' won't talk to police\n",
      "   Enter your tag: 245\n",
      "    ['politics', 'religion', 'terrorism']\n",
      "43 : At Least 16 Killed in Burkina Faso Army Base Attack\n",
      "   Enter your tag: 25\n",
      "    ['politics', 'terrorism']\n",
      "44 : German Court Hands Islamic State Member 10 Years in Prison for Murder, War Crimes\n",
      "   Enter your tag: 245\n",
      "    ['politics', 'religion', 'terrorism']\n",
      "45 : WARNING: If you submit ISIS propaganda, execution videos or other such content, you will be permanently banned. WARNUNG! Wenn Sie ISIS-Propaganda, Hinrichtungsvideos oder ähnliche Inhalte einreichen, werden Sie dauerhaft gesperrt.\n",
      "   Enter your tag: 245\n",
      "    ['politics', 'religion', 'terrorism']\n",
      "46 : Opinion | Stop Using Islamophobic Rhetoric to Condemn Christian Extremism\n",
      "   Enter your tag: 45\n",
      "    ['religion', 'terrorism']\n",
      "47 : The surprising realpolitik of the new Haqqani network\n",
      "   Enter your tag: 245\n",
      "    ['politics', 'religion', 'terrorism']\n",
      "48 : Leading ISIS Media Figure and Foreign Fighter Pleads Guilty to Conspiring to Provide Material Support to Terrorist Organization Resulting in Death\n",
      "   Enter your tag: 245\n",
      "    ['politics', 'religion', 'terrorism']\n",
      "49 : A Cartel Used Armed Drones and a Plane to Bomb Police: The attack by CJNG on a police station in Jalisco, Mexico, killed two officers.\n",
      "   Enter your tag: 25\n",
      "    ['politics', 'terrorism']\n"
     ]
    }
   ],
   "source": [
    "# Chạy cái này để gán nhãn, nhập số ở label_dict để gán, có thể nhập nhiều số liền nhau, ví dụ như 124\n",
    "for line_count in range(len(batch)):\n",
    "    while True:\n",
    "        if label_a_line(line_count):\n",
    "            break"
   ]
  },
  {
   "cell_type": "code",
   "execution_count": 14,
   "metadata": {
    "id": "rUYLgLUxYxCT"
   },
   "outputs": [],
   "source": [
    "# Chuyển dữ liệu về dạng json\n",
    "\n",
    "# Al Qaeda\n",
    "# PKK \n",
    "# talibs\n",
    "# Haqqani \n",
    "\n",
    "tagged_json = json.dumps(tagged_dict)\n",
    "\n",
    "# Xuất file, vào Files ở cột bên trái để tải về\n",
    "with open(out_file_name, \"w\") as outfile:\n",
    "    outfile.write(tagged_json)"
   ]
  },
  {
   "cell_type": "code",
   "execution_count": null,
   "metadata": {},
   "outputs": [],
   "source": []
  }
 ],
 "metadata": {
  "colab": {
   "provenance": []
  },
  "gpuClass": "standard",
  "kernelspec": {
   "display_name": "Python 3",
   "language": "python",
   "name": "python3"
  },
  "language_info": {
   "codemirror_mode": {
    "name": "ipython",
    "version": 3
   },
   "file_extension": ".py",
   "mimetype": "text/x-python",
   "name": "python",
   "nbconvert_exporter": "python",
   "pygments_lexer": "ipython3",
   "version": "3.8.8"
  },
  "vscode": {
   "interpreter": {
    "hash": "11938c6bc6919ae2720b4d5011047913343b08a43b18698fd82dedb0d4417594"
   }
  }
 },
 "nbformat": 4,
 "nbformat_minor": 1
}
