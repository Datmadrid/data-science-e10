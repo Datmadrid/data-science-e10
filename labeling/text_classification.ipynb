{
 "cells": [
  {
   "cell_type": "code",
   "execution_count": 1,
   "metadata": {
    "id": "mbwqHle6NztB"
   },
   "outputs": [],
   "source": [
    "import os\n",
    "import json"
   ]
  },
  {
   "cell_type": "code",
   "execution_count": 2,
   "metadata": {
    "colab": {
     "base_uri": "https://localhost:8080/",
     "height": 235
    },
    "id": "KptB-rJqMMZV",
    "outputId": "5dcbb561-99f5-4b65-c928-6101d175ccd7"
   },
   "outputs": [],
   "source": [
    "# Đọc dữ liệu\n",
    "file_name = \"terrorism.txt\"\n",
    "my_text = open(os.path.join(os.getcwd(), file_name), \"r\", encoding=\"utf8\") \n",
    "lines = []\n",
    "for line in my_text.readlines():\n",
    "    lines.append(line.rstrip('\\n'))"
   ]
  },
  {
   "cell_type": "code",
   "execution_count": 3,
   "metadata": {
    "id": "knvXQqJnW0IV"
   },
   "outputs": [],
   "source": [
    "# Mỗi batch gán thì lấy tầm 100 - 200 data\n",
    "batch = lines[0:50]"
   ]
  },
  {
   "cell_type": "code",
   "execution_count": 4,
   "metadata": {
    "id": "ZZBKTEx-WbE1"
   },
   "outputs": [],
   "source": [
    "label_dict = {\n",
    "    0: \"neutral\",\n",
    "    1: \"insult\",\n",
    "    2: \"politics\",\n",
    "    3: \"psychology\",\n",
    "    4: \"religion\",\n",
    "    5: \"terrorism\"\n",
    "}"
   ]
  },
  {
   "cell_type": "code",
   "execution_count": 5,
   "metadata": {
    "id": "HVWO9Q-i6G7I"
   },
   "outputs": [
    {
     "name": "stdout",
     "output_type": "stream",
     "text": [
      "New dict initialized\n"
     ]
    }
   ],
   "source": [
    "# FIXED: this cell can be run multiple times \n",
    "# check if it exists\n",
    "if 'tagged_dict' not in globals(): \n",
    "    tagged_dict = {}\n",
    "    print('New dict initialized')\n",
    "else: \n",
    "    print('Dict already exists')"
   ]
  },
  {
   "cell_type": "code",
   "execution_count": 6,
   "metadata": {
    "id": "FZyKNNEVNTXC"
   },
   "outputs": [],
   "source": [
    "# return True if label succesfully\n",
    "def label_a_line(line_count):\n",
    "    try:\n",
    "        print(f\"{line_count} : {batch[line_count]}\")\n",
    "        line = batch[line_count]\n",
    "        tags = input(\"   Enter your tag: \")\n",
    "        val = list()\n",
    "        if len(str(tags)) >= 2:\n",
    "            for tag_count in range(len(str(tags))):\n",
    "                str_tags = str(tags)\n",
    "                val.append(label_dict[int(str_tags[tag_count])])\n",
    "            tagged_dict[line] = val\n",
    "        else:\n",
    "            tagged_dict[line] = list()\n",
    "            tagged_dict[line].append(label_dict[int(tags)])\n",
    "        print(f'    {tagged_dict[line]}')\n",
    "        return True\n",
    "    except KeyError:\n",
    "        return False"
   ]
  },
  {
   "cell_type": "code",
   "execution_count": 7,
   "metadata": {
    "id": "xaAl4z7vQw6d"
   },
   "outputs": [
    {
     "name": "stdout",
     "output_type": "stream",
     "text": [
      "0 : Islamic State 'Beatles' cell member convicted in U.S. of beheading hostages\n",
      "   Enter your tag: 245\n",
      "    ['politics', 'religion', 'terrorism']\n",
      "1 : Jihadists kill dozens across northern Togo\n",
      "   Enter your tag: 5\n",
      "    ['terrorism']\n",
      "2 : Al-Shabab Attacks Key Bridges in Somalia, Kills at Least 21 People\n",
      "   Enter your tag: 245\n",
      "    ['politics', 'religion', 'terrorism']\n",
      "3 : Liwa Fatemiyoun publishes a statement regarding the recent IS attack in Iran\n",
      "   Enter your tag: 25\n",
      "    ['politics', 'terrorism']\n",
      "4 : Pro-Iran Group Kills American English Teacher In Iraq\n",
      "   Enter your tag: 25\n",
      "    ['politics', 'terrorism']\n",
      "5 : Improvised Anti-Vehicle Land Mines (IAVMs) in Mexico: Cartel Emergent Weaponry Use\n",
      "   Enter your tag: 2\n",
      "    ['politics']\n",
      "6 : Experts react: Al-Qaeda chief Ayman al-Zawahiri is dead. What’s next for US counterterrorism?\n",
      "   Enter your tag: 25\n",
      "    ['politics', 'terrorism']\n",
      "7 : wagner\n",
      "   Enter your tag: 0\n",
      "    ['neutral']\n",
      "8 : Islamist militants in Mali kill hundreds, displace thousands in eastern advance\n",
      "   Enter your tag: 245\n",
      "    ['politics', 'religion', 'terrorism']\n",
      "9 : Remote Warfare: Exploring the proliferation of targeted drone strikes\n",
      "   Enter your tag: 2\n",
      "    ['politics']\n",
      "10 : AP sources: US operation killed al-Qaida leader al-Zawahri\n",
      "   Enter your tag: 25\n",
      "    ['politics', 'terrorism']\n",
      "11 : Russia threatens hundreds of thousands of people by mining dam, Zelenskyy warns\n",
      "   Enter your tag: 2\n",
      "    ['politics']\n",
      "12 : US forces kill senior terrorist leader in Syria\n",
      "   Enter your tag: 25\n",
      "    ['politics', 'terrorism']\n",
      "13 : Suspected Suicide Bombers Strike in Northwest Syria\n",
      "   Enter your tag: 5\n",
      "    ['terrorism']\n",
      "14 : Anonymous exposes Iranian regime support for key Al-Qaeda figures\n",
      "   Enter your tag: 25\n",
      "    ['politics', 'terrorism']\n",
      "15 : \"There is a pretty horrific video going around where a Russian soldier castrates a captured - live Ukrainian soldier. Not only is this real, it is far from an isolated incident. A source in the Ukrainian military has told me [this] has happened multiple times.\" - James Rushton (JimmySec)\n",
      "   Enter your tag: 25\n",
      "    ['politics', 'terrorism']\n",
      "16 : Justice Department stands up new domestic terrorism unit to target wave of violent extremists\n",
      "   Enter your tag: 5\n",
      "    ['terrorism']\n",
      "17 : Al-Qaida Affiliate Claims Attack on Mali's Main Military Base\n",
      "   Enter your tag: 25\n",
      "    ['politics', 'terrorism']\n",
      "18 : Iran Is Once Again Using Its Civilian Airliners To Ferry Arms\n",
      "   Enter your tag: 2\n",
      "    ['politics']\n",
      "19 : Islamic State Group Plot in Morocco Foiled With US Help\n",
      "   Enter your tag: 245\n",
      "    ['politics', 'religion', 'terrorism']\n",
      "20 : Tajik terrorist serves as Taliban commander in northern Afghanistan\n",
      "   Enter your tag: 5\n",
      "    ['terrorism']\n",
      "21 : Ukraine war: Body of captured British aid worker Paul Urey returned with signs of unspeakable torture, Kyiv says | UK News\n",
      "   Enter your tag: 25\n",
      "    ['politics', 'terrorism']\n",
      "22 : Active terror incident with hostages\n",
      "   Enter your tag: 5\n",
      "    ['terrorism']\n",
      "23 : Decades Later, 9/11 Self-Professed Mastermind Awaits Trial\n",
      "   Enter your tag: 5\n",
      "    ['terrorism']\n",
      "24 : ISIS planned chemical attacks in Europe, new details on weapons program reveal\n",
      "   Enter your tag: 25\n",
      "    ['politics', 'terrorism']\n",
      "25 : Why Russia’s War in Ukraine Is a Genocide\n",
      "   Enter your tag: 25\n",
      "    ['politics', 'terrorism']\n",
      "26 : Turkey detains 16 accused of links to Islamic State after bookshop clash\n",
      "   Enter your tag: 245\n",
      "    ['politics', 'religion', 'terrorism']\n",
      "27 : Two Police, One Health Worker Shot Dead In Northwest Pakistan During Polio-Vaccination Drive\n",
      "   Enter your tag: 5\n",
      "    ['terrorism']\n",
      "28 : Suicide Blast at Kabul School Kills 19\n",
      "   Enter your tag: 5\n",
      "    ['terrorism']\n",
      "29 : Stoking Conflict by Keystroke\n",
      "   Enter your tag: 25\n",
      "    ['politics', 'terrorism']\n",
      "30 : UIA Flight PS752: Ukrainian Plane Shot Down Deliberately Say Parents of Victims\n",
      "   Enter your tag: 25\n",
      "    ['politics', 'terrorism']\n",
      "31 : Hafiz Saeed, wanted by U.S. after 2008 Mumbai bombings, sentenced to 31 years in prison\n",
      "   Enter your tag: 25\n",
      "    ['politics', 'terrorism']\n",
      "32 : Yemeni troops launch campaign against Al-Qaeda\n",
      "   Enter your tag: 25\n",
      "    ['politics', 'terrorism']\n",
      "33 : Benin Army Vehicle Strikes Land Mine as Security Fears in North Grow\n",
      "   Enter your tag: 25\n",
      "    ['politics', 'terrorism']\n",
      "34 : Dakar Rally Car Blast Caused by Improvised Explosive Device\n",
      "   Enter your tag: 5\n",
      "    ['terrorism']\n",
      "35 : According to Yemen's foreign ministry, the Houthis should be classified as a terrorist group.\n",
      "   Enter your tag: 25\n",
      "    ['politics', 'terrorism']\n",
      "36 : Jihadist attacks flow into littoral West Africa\n",
      "   Enter your tag: 25\n",
      "    ['politics', 'terrorism']\n",
      "37 : Police Hunting for Man Who Left a Parcel Bomb at Toulouse Cathedral\n",
      "   Enter your tag: 45\n",
      "    ['religion', 'terrorism']\n",
      "38 : From Idlib to Madrid: How al-Qaeda nearly infiltrated the Spanish Government\n",
      "   Enter your tag: 245\n",
      "    ['politics', 'religion', 'terrorism']\n",
      "39 : The Taliban’s unconvincing war on ISIS-K\n",
      "   Enter your tag: 245\n",
      "    ['politics', 'religion', 'terrorism']\n",
      "40 : Understanding Boko Haram: An Interview with Jacob Zenn\n",
      "   Enter your tag: 5\n",
      "    ['terrorism']\n",
      "41 : putin\n",
      "   Enter your tag: 0\n",
      "    ['neutral']\n",
      "42 : The inside story of the CIA vs Russia\n",
      "   Enter your tag: 2\n",
      "    ['politics']\n",
      "43 : Terrorists Benefit from Qatar’s Goodwill and Charity\n",
      "   Enter your tag: 25\n",
      "    ['politics', 'terrorism']\n",
      "44 : Zaporizhzhia nuclear power plant is currently occupied by terrorists and it's worse than you think\n",
      "   Enter your tag: 5\n",
      "    ['terrorism']\n",
      "45 : Two Death-row Islamist Extremists Escape Bangladesh Court: were sentenced to death for killing a U.S. blogger critical of religious extremism\n",
      "   Enter your tag: 245\n",
      "    ['politics', 'religion', 'terrorism']\n",
      "46 : Oslo mass shooting: 2 killed, 14 injured\n",
      "   Enter your tag: 5\n",
      "    ['terrorism']\n",
      "47 : Terrorist Harpreet Singh, Accused In Ludhiana Court Blast Case, Arrested\n",
      "   Enter your tag: 5\n",
      "    ['terrorism']\n",
      "48 : Brussels Police Officer Killed, Another Wounded in Stabbing Incident\n",
      "   Enter your tag: 25\n",
      "    ['politics', 'terrorism']\n",
      "49 : Oslo shooting: Norway attack being treated as Islamist terrorism, police say\n",
      "   Enter your tag: 245\n",
      "    ['politics', 'religion', 'terrorism']\n"
     ]
    }
   ],
   "source": [
    "# Chạy cái này để gán nhãn, nhập số ở label_dict để gán, có thể nhập nhiều số liền nhau, ví dụ như 124\n",
    "for line_count in range(len(batch)):\n",
    "    while True:\n",
    "        if label_a_line(line_count):\n",
    "            break"
   ]
  },
  {
   "cell_type": "code",
   "execution_count": 8,
   "metadata": {
    "id": "rUYLgLUxYxCT"
   },
   "outputs": [],
   "source": [
    "# Chuyển dữ liệu về dạng json\n",
    "tagged_json = json.dumps(tagged_dict)"
   ]
  },
  {
   "cell_type": "code",
   "execution_count": 9,
   "metadata": {
    "id": "cH-gJnTzdzAC"
   },
   "outputs": [],
   "source": [
    "# Xuất file, vào Files ở cột bên trái để tải về\n",
    "with open(\"batch3.json\", \"w\") as outfile:\n",
    "    outfile.write(tagged_json)"
   ]
  }
 ],
 "metadata": {
  "colab": {
   "provenance": []
  },
  "gpuClass": "standard",
  "kernelspec": {
   "display_name": "Python 3",
   "language": "python",
   "name": "python3"
  },
  "language_info": {
   "codemirror_mode": {
    "name": "ipython",
    "version": 3
   },
   "file_extension": ".py",
   "mimetype": "text/x-python",
   "name": "python",
   "nbconvert_exporter": "python",
   "pygments_lexer": "ipython3",
   "version": "3.8.8"
  },
  "vscode": {
   "interpreter": {
    "hash": "11938c6bc6919ae2720b4d5011047913343b08a43b18698fd82dedb0d4417594"
   }
  }
 },
 "nbformat": 4,
 "nbformat_minor": 1
}
