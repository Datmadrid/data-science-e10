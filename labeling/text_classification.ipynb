{
  "cells": [
    {
      "cell_type": "code",
      "execution_count": 17,
      "metadata": {
        "id": "KptB-rJqMMZV"
      },
      "outputs": [],
      "source": [
        "# Đọc dữ liệu\n",
        "my_text = open(\"terrorism.txt\",\"r\", encoding=\"utf8\") \n",
        "lines = []\n",
        "for line in my_text.readlines():\n",
        "    lines.append(line.rstrip('\\n'))"
      ]
    },
    {
      "cell_type": "code",
      "execution_count": 18,
      "metadata": {
        "id": "knvXQqJnW0IV"
      },
      "outputs": [],
      "source": [
        "# Mỗi batch gán thì lấy tầm 100 - 200 data\n",
        "batch = lines[:3]"
      ]
    },
    {
      "cell_type": "code",
      "execution_count": 19,
      "metadata": {
        "colab": {
          "base_uri": "https://localhost:8080/"
        },
        "id": "jTtp8A-O8Jy1",
        "outputId": "24fc2f1c-3495-4469-ecae-42f63add82b0"
      },
      "outputs": [
        {
          "name": "stdout",
          "output_type": "stream",
          "text": [
            "0 : Islamic State 'Beatles' cell member convicted in U.S. of beheading hostages\n",
            "1 : Jihadists kill dozens across northern Togo\n",
            "2 : Al-Shabab Attacks Key Bridges in Somalia, Kills at Least 21 People\n"
          ]
        }
      ],
      "source": [
        "for i in range(len(batch)):\n",
        "    print(f\"{i} : {batch[i]}\")"
      ]
    },
    {
      "cell_type": "code",
      "execution_count": 20,
      "metadata": {
        "id": "ZZBKTEx-WbE1"
      },
      "outputs": [],
      "source": [
        "label_dict = {\n",
        "    0: \"neutral\",\n",
        "    1: \"insult\",\n",
        "    2: \"politics\",\n",
        "    3: \"psychology\",\n",
        "    4: \"religion\",\n",
        "    5: \"terrorism\"\n",
        "}"
      ]
    },
    {
      "cell_type": "code",
      "execution_count": 21,
      "metadata": {
        "id": "HVWO9Q-i6G7I"
      },
      "outputs": [],
      "source": [
        "# Cái này chạy 1 lần để tạo dict rồi xóa đi, batch sau nhập lại\n",
        "tagged_dict = {}"
      ]
    },
    {
      "cell_type": "code",
      "execution_count": 22,
      "metadata": {},
      "outputs": [],
      "source": [
        "# return True if label succesfully\n",
        "def label_a_line(line_count):\n",
        "    try:\n",
        "        print(f\"{line_count} : {batch[line_count]}\")\n",
        "        line = batch[line_count]\n",
        "        tags = input(\"   Enter your tag: \")\n",
        "        val = list()\n",
        "        if len(str(tags)) >= 2:\n",
        "            for tag_count in range(len(str(tags))):\n",
        "                str_tags = str(tags)\n",
        "                val.append(label_dict[int(str_tags[tag_count])])\n",
        "            tagged_dict[line] = val\n",
        "        else:\n",
        "            tagged_dict[line] = list()\n",
        "            tagged_dict[line].append(label_dict[int(tags)])\n",
        "        print(f'    {tagged_dict[line]}')\n",
        "        return True\n",
        "    except KeyError:\n",
        "        return False"
      ]
    },
    {
      "cell_type": "code",
      "execution_count": 23,
      "metadata": {
        "colab": {
          "base_uri": "https://localhost:8080/"
        },
        "id": "xaAl4z7vQw6d",
        "outputId": "e3955428-79a1-40bf-f94e-6012d1099da3"
      },
      "outputs": [
        {
          "name": "stdout",
          "output_type": "stream",
          "text": [
            "0 : Islamic State 'Beatles' cell member convicted in U.S. of beheading hostages\n",
            "0 : Islamic State 'Beatles' cell member convicted in U.S. of beheading hostages\n",
            "    ['politics']\n",
            "1 : Jihadists kill dozens across northern Togo\n",
            "    ['politics', 'terrorism']\n",
            "2 : Al-Shabab Attacks Key Bridges in Somalia, Kills at Least 21 People\n",
            "    ['psychology']\n"
          ]
        }
      ],
      "source": [
        "# Chạy cái này để gán nhãn, nhập số ở label_dict để gán, có thể nhập nhiều số liền nhau, ví dụ như 124\n",
        "for line_count in range(len(batch)):\n",
        "    while True:\n",
        "        if label_a_line(line_count):\n",
        "            break"
      ]
    },
    {
      "cell_type": "code",
      "execution_count": 24,
      "metadata": {
        "colab": {
          "base_uri": "https://localhost:8080/"
        },
        "id": "RKi_-9mMTdyj",
        "outputId": "21bd91d8-c762-4c68-b1d0-dfab07587a35"
      },
      "outputs": [
        {
          "data": {
            "text/plain": [
              "{\"Islamic State 'Beatles' cell member convicted in U.S. of beheading hostages\": ['politics'],\n",
              " 'Jihadists kill dozens across northern Togo': ['politics', 'terrorism'],\n",
              " 'Al-Shabab Attacks Key Bridges in Somalia, Kills at Least 21 People': ['psychology']}"
            ]
          },
          "execution_count": 24,
          "metadata": {},
          "output_type": "execute_result"
        }
      ],
      "source": [
        "tagged_dict"
      ]
    },
    {
      "cell_type": "code",
      "execution_count": 25,
      "metadata": {
        "colab": {
          "base_uri": "https://localhost:8080/"
        },
        "id": "rUYLgLUxYxCT",
        "outputId": "eddbb416-108d-4e08-b275-6a1097e1ec3f"
      },
      "outputs": [
        {
          "name": "stdout",
          "output_type": "stream",
          "text": [
            "{\"Islamic State 'Beatles' cell member convicted in U.S. of beheading hostages\": [\"politics\"], \"Jihadists kill dozens across northern Togo\": [\"politics\", \"terrorism\"], \"Al-Shabab Attacks Key Bridges in Somalia, Kills at Least 21 People\": [\"psychology\"]}\n"
          ]
        }
      ],
      "source": [
        "# Chuyển dữ liệu về dạng json\n",
        "import json\n",
        "tagged_json = json.dumps(tagged_dict)\n",
        "print(tagged_json)"
      ]
    },
    {
      "cell_type": "code",
      "execution_count": 26,
      "metadata": {
        "id": "cH-gJnTzdzAC"
      },
      "outputs": [],
      "source": [
        "# Xuất file, vào Files ở cột bên trái để tải về\n",
        "with open(\"batch3.json\", \"w\") as outfile:\n",
        "    outfile.write(tagged_json)"
      ]
    },
    {
      "cell_type": "code",
      "execution_count": null,
      "metadata": {
        "id": "YizuCseyBcPz"
      },
      "outputs": [],
      "source": []
    }
  ],
  "metadata": {
    "colab": {
      "provenance": []
    },
    "gpuClass": "standard",
    "kernelspec": {
      "display_name": "Python 3.9.12 64-bit",
      "language": "python",
      "name": "python3"
    },
    "language_info": {
      "codemirror_mode": {
        "name": "ipython",
        "version": 3
      },
      "file_extension": ".py",
      "mimetype": "text/x-python",
      "name": "python",
      "nbconvert_exporter": "python",
      "pygments_lexer": "ipython3",
      "version": "3.9.12"
    },
    "vscode": {
      "interpreter": {
        "hash": "11938c6bc6919ae2720b4d5011047913343b08a43b18698fd82dedb0d4417594"
      }
    }
  },
  "nbformat": 4,
  "nbformat_minor": 0
}
